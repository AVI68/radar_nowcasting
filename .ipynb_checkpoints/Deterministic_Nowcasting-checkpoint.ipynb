{
 "cells": [
  {
   "cell_type": "markdown",
   "id": "769ab9f2-b99f-475d-acaf-e0594089af3c",
   "metadata": {},
   "source": [
    "# Loading Radar Data"
   ]
  },
  {
   "cell_type": "code",
   "execution_count": 5,
   "id": "1494fe81-967d-4844-b420-8683010851f7",
   "metadata": {},
   "outputs": [],
   "source": [
    "# Import Necessary Libraries\n",
    "import os\n",
    "import numpy as np\n",
    "from datetime import datetime\n",
    "import pysteps\n",
    "# Import utility functions from the repository (custom functions for data loading and other functionalities\n",
    "import utility   \n",
    "root_path = os.getcwd()\n",
    "# Define the data directory for the repository data\n",
    "data_path = os.path.join(root_path, \"Data\")\n",
    "# Define metadata files\n",
    "metadata_X = utility.get_matadata(os.path.join(data_path, \"radarmappatipo.tif\"), type=\"X\")\n",
    "folders = [folder for folder in os.listdir(data_path) if os.path.isdir(os.path.join(data_path, folder))]\n",
    "events = [event for event in os.listdir(os.path.join(data_path,folders[1])) if os.path.isdir(os.path.join(data_path, folders[1], event))]\n",
    "# Define parameters for X-band radar data\n",
    "data_source_X = folders[1]\n",
    "f_ext_X = \"png\"\n",
    "num_prev_files =11\n",
    "timestep = 5\n",
    "# Choose the event date\n",
    "date = datetime.strptime(events[0], \"%Y%m%d_%H%M\")\n",
    "# Load X-band radar data\n",
    "R_X, metadata_X = utility.import_files_by_date(date, data_path, data_source_X, f_ext_X, metadata_X, num_prev_files, timestep)"
   ]
  },
  {
   "cell_type": "code",
   "execution_count": 6,
   "id": "fff7734c-e7bb-4cce-aaa4-79d1e0133af9",
   "metadata": {},
   "outputs": [
    {
     "name": "stdout",
     "output_type": "stream",
     "text": [
      "Radar Data Shape: (12, 1024, 1024)\n",
      "Timestamps: [datetime.datetime(2018, 8, 7, 11, 40)\n",
      " datetime.datetime(2018, 8, 7, 11, 45)\n",
      " datetime.datetime(2018, 8, 7, 11, 50)\n",
      " datetime.datetime(2018, 8, 7, 11, 55)\n",
      " datetime.datetime(2018, 8, 7, 12, 0) datetime.datetime(2018, 8, 7, 12, 5)\n",
      " datetime.datetime(2018, 8, 7, 12, 10)\n",
      " datetime.datetime(2018, 8, 7, 12, 15)\n",
      " datetime.datetime(2018, 8, 7, 12, 20)\n",
      " datetime.datetime(2018, 8, 7, 12, 25)\n",
      " datetime.datetime(2018, 8, 7, 12, 30)\n",
      " datetime.datetime(2018, 8, 7, 12, 35)]\n"
     ]
    }
   ],
   "source": [
    "# Verify results\n",
    "print(\"Radar Data Shape:\", R_X.shape)\n",
    "print(\"Timestamps:\", metadata_X[\"timestamps\"])"
   ]
  },
  {
   "cell_type": "code",
   "execution_count": null,
   "id": "6c1e0459-e376-462f-a9fd-0e6650e3e4c8",
   "metadata": {},
   "outputs": [],
   "source": []
  }
 ],
 "metadata": {
  "kernelspec": {
   "display_name": "Python 3 (ipykernel)",
   "language": "python",
   "name": "python3"
  },
  "language_info": {
   "codemirror_mode": {
    "name": "ipython",
    "version": 3
   },
   "file_extension": ".py",
   "mimetype": "text/x-python",
   "name": "python",
   "nbconvert_exporter": "python",
   "pygments_lexer": "ipython3",
   "version": "3.9.21"
  }
 },
 "nbformat": 4,
 "nbformat_minor": 5
}
