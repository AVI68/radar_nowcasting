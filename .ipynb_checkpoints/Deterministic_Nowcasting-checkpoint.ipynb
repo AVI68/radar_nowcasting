{
 "cells": [
  {
   "cell_type": "markdown",
   "id": "769ab9f2-b99f-475d-acaf-e0594089af3c",
   "metadata": {},
   "source": [
    "# Loading Radar Data"
   ]
  },
  {
   "cell_type": "code",
   "execution_count": null,
   "id": "1494fe81-967d-4844-b420-8683010851f7",
   "metadata": {},
   "outputs": [],
   "source": [
    "# Import Necessary Libraries\n",
    "import os\n",
    "import numpy as np\n",
    "from datetime import datetime\n",
    "import pysteps\n",
    "# Import utility functions from the repository (custom functions for data loading and other functionalities\n",
    "import utility   \n",
    "import matplotlib.pyplot as plt\n",
    "from pprint import pprint\n",
    "from pysteps import io, nowcasts, rcparams\n",
    "from pysteps.motion.lucaskanade import dense_lucaskanade\n",
    "from pysteps.postprocessing.ensemblestats import excprob\n",
    "from pysteps.utils import conversion, transformation\n",
    "from pysteps.visualization import plot_precip_field\n",
    "\n",
    "\n",
    "root_path = os.getcwd()\n",
    "# Define the data directory for the repository data\n",
    "data_path = os.path.join(root_path, \"Data\")\n",
    "# Define metadata files\n",
    "metadata_X = utility.get_matadata(os.path.join(data_path, \"radarmappatipo.tif\"), type=\"X\")\n",
    "folders = [folder for folder in os.listdir(data_path) if os.path.isdir(os.path.join(data_path, folder))]\n",
    "events = [event for event in os.listdir(os.path.join(data_path,\n",
    "                                                     'UNICA_SG')) if os.path.isdir(os.path.join(data_path,\n",
    "                                                                                                'UNICA_SG', event))]\n",
    "# Define parameters for X-band radar data\n",
    "data_source_X = 'UNICA_SG'\n",
    "event_subdir ='20230520_2235' # this is the event folder, we can change for different events from the events variable\n",
    "f_ext_X = \"png\"\n",
    "# for LK, VET and proesman we need 4 files (3 previous files from the central scan) and for DARTS we need 10 files (9 previous files)\n",
    "num_prev_files = 3  \n",
    "num_next_files = 6 # In our study we are doing nowcast for next 30 mins (6 scans) \n",
    "timestep = 5\n",
    "# Choose the date for particular subset\n",
    "eventdates = [eventdate for eventdate in os.listdir(os.path.join(data_path,\n",
    "                                                                 'UNICA_SG',\n",
    "                                                                 event_subdir)) if os.path.isfile(os.path.join(data_path,\n",
    "                                                                                                               'UNICA_SG', \n",
    "                                                                                                               event_subdir,\n",
    "                                                                                                               eventdate))]\n",
    "# extract the date in datetime format from the filename\n",
    "# This is the central scan, we have to previous load files for optical flow and next files to compare the nowacasting results with observation\n",
    "date = datetime.strptime('20230520_1830.png', \"%Y%m%d_%H%M.png\") \n",
    "# Load X-band radar data\n",
    "R_dn, metadata_dn = utility.import_files_by_date(date, \n",
    "                                           data_path, \n",
    "                                           data_source_X,\n",
    "                                           event_subdir, \n",
    "                                           f_ext_X, \n",
    "                                           metadata_X,\n",
    "                                           num_prev_files,\n",
    "                                           0,\n",
    "                                           timestep)\n",
    "\n",
    "\n",
    "# Noise removal using Watershed technique\n",
    "R_dn_clean = np.empty_like(R_dn)\n",
    "for t in range(R_dn.shape[0]):\n",
    "    R_dn_clean[t, :, :] = utility.noise_remove(R_dn[t, :, :], type=\"Watershed\")\n",
    "\n",
    "# Convert Digital Number to Reflectivity (dBZ)\n",
    "R_dbz,metadata_dbz = utility.dn_to_dbz(R_dn_clean,metadata_dn)\n",
    "# Convert to rain rate\n",
    "R_R, metadata_R = conversion.to_rainrate(R_dbz, metadata_dbz)\n",
    "# Log-transform the data to unit of dBR, set the threshold to 0.1 mm/h,\n",
    "# set the fill value to -15 dBR\n",
    "R_dbr, metadata_dbr = transformation.dB_transform(R_R, metadata_R, threshold=0.1, zerovalue=-15.0)\n",
    "\n",
    "# Set missing values with the fill value\n",
    "R_dbr[~np.isfinite(R_dbr)] = -15.0\n",
    "\n",
    "# Nicely print the metadata\n",
    "pprint(metadata_dbr)"
   ]
  },
  {
   "cell_type": "markdown",
   "id": "0b3d99cf-b92b-4ae5-b634-8ec0cc438093",
   "metadata": {},
   "source": [
    "# Load observed data to compare with nowcast results"
   ]
  },
  {
   "cell_type": "code",
   "execution_count": null,
   "id": "93780ca9-e18d-4c8a-b521-f4be612e45a6",
   "metadata": {},
   "outputs": [],
   "source": [
    "R_O, metadata_O = utility.import_files_by_date(date, \n",
    "                                               data_path, \n",
    "                                               data_source_X,\n",
    "                                               event_subdir, \n",
    "                                               f_ext_X, \n",
    "                                               metadata_X,\n",
    "                                               0,\n",
    "                                               num_next_files,\n",
    "                                               timestep)\n",
    "# Noise removal using Watershed technique\n",
    "R_O_clean = np.empty_like(R_O)\n",
    "for t in range(R_O.shape[0]):\n",
    "    R_O_clean[t, :, :] = utility.noise_remove(R_O[t, :, :], type=\"Watershed\")\n",
    "\n",
    "# Convert Digital Number to Reflectivity (dBZ)\n",
    "R_O_dbz,metadata_O_dbz = utility.dn_to_dbz(R_O_clean,metadata_O)\n",
    "# Convert to rain rate\n",
    "R_O_R, metadata_O_R = conversion.to_rainrate(R_O_dbz, metadata_O_dbz)"
   ]
  },
  {
   "cell_type": "markdown",
   "id": "7d073ff6-c465-4d80-bfa4-072b50b5c315",
   "metadata": {},
   "source": [
    "# Estimate the motion field "
   ]
  },
  {
   "cell_type": "code",
   "execution_count": null,
   "id": "8047e500-1c6c-4518-a137-54ce0f09cde1",
   "metadata": {},
   "outputs": [],
   "source": [
    "# motion field using lucas kanade optical flow (dense method) with shitomasi tracking methods\n",
    "from pysteps.visualization import quiver\n",
    "\n",
    "V1 = dense_lucaskanade(R_dbr,fd_method=\"shitomasi\",verbose=True)\n",
    "fig, ax = plt.subplots(figsize=(20, 10))\n",
    "\n",
    "plot_precip_field(\n",
    "            R_R[-1, :, :],\n",
    "            ptype=\"intensity\",\n",
    "            geodata=metadata_R,\n",
    "            units=\"mm/h\",\n",
    "            ax=ax,\n",
    "            colorscale=\"pysteps\")\n",
    "ax.set_title(f\"Dense LK motion (shitomasi) {metadata_R['timestamps'][-1].strftime('%d/%m/%Y %H:%M')}\")\n",
    "quiver(V1, geodata=metadata_R, step=75,ax=ax)     \n",
    "utility.plot_modification(ax,metadata_R)"
   ]
  },
  {
   "cell_type": "markdown",
   "id": "7e36d2d9-662e-4262-9ec8-a862c2b559d6",
   "metadata": {},
   "source": [
    "# Deterministic nowcast with SPROG"
   ]
  },
  {
   "cell_type": "code",
   "execution_count": null,
   "id": "903112d7-cbf7-4d67-9521-1f77d1484e22",
   "metadata": {},
   "outputs": [],
   "source": [
    "# Set nowcast parameters\n",
    "n_ens_members = 20\n",
    "n_leadtimes = num_next_files\n",
    "seed = 24\n",
    "# The S-PROG nowcast\n",
    "sprog = nowcasts.get_method(\"sprog\")\n",
    "R_f_sp = sprog(\n",
    "    R_dbr[-3:, :, :],\n",
    "    V1,\n",
    "    n_leadtimes,\n",
    "    n_cascade_levels=6,\n",
    "    R_thr=-10.0\n",
    ")\n",
    "# Back-transform to rain rate\n",
    "R_f_sp = transformation.dB_transform(R_f_sp, threshold=-10.0, inverse=True)[0]"
   ]
  },
  {
   "cell_type": "markdown",
   "id": "27c380ed-0f5b-455d-bbf2-970758798fbf",
   "metadata": {},
   "source": [
    "# Deterministic nowcast with semilagrangian extrapolation"
   ]
  },
  {
   "cell_type": "code",
   "execution_count": null,
   "id": "18f56ac8-4035-4a3b-ad8e-03717261b8d1",
   "metadata": {},
   "outputs": [],
   "source": [
    "# Extrapolate the last radar observation\n",
    "extrapolate = nowcasts.get_method(\"extrapolation\")\n",
    "R_f_sl = extrapolate(R_dbr[-1, :, :], \n",
    "                     V1, \n",
    "                     n_leadtimes,extrap_method=\"semilagrangian\")\n",
    "\n",
    "# Back-transform to rain rate\n",
    "R_f_sl = transformation.dB_transform(R_f_sl, threshold=-10.0, inverse=True)[0]"
   ]
  },
  {
   "cell_type": "markdown",
   "id": "02997467-4504-4716-a62d-60f877b0cf7f",
   "metadata": {},
   "source": [
    "# Deterministic nowcast with ANVIL"
   ]
  },
  {
   "cell_type": "code",
   "execution_count": null,
   "id": "c3934238-dcf2-4b4e-bd1d-6c64f7cc89f8",
   "metadata": {},
   "outputs": [],
   "source": [
    "anvil = nowcasts.get_method(\"anvil\")\n",
    "R_f_A =  anvil(R_R[-4:,:,:], \n",
    "               V1, \n",
    "               n_leadtimes, \n",
    "               ar_window_radius=25, \n",
    "               ar_order=2)"
   ]
  },
  {
   "cell_type": "markdown",
   "id": "786466ae-56ed-4031-9f3e-bd09d4d070a0",
   "metadata": {},
   "source": [
    "# Deterministic nowcast with Eulerian persistence"
   ]
  },
  {
   "cell_type": "code",
   "execution_count": null,
   "id": "2599b79a-b68f-4fb0-ad49-fc758b2b7fb8",
   "metadata": {},
   "outputs": [],
   "source": [
    "# Extrapolate the last radar observation\n",
    "extrapolate = nowcasts.get_method(\"extrapolation\")\n",
    "R_f_el = extrapolate(R_dbr[-1, :, :], \n",
    "                     V1, \n",
    "                     n_leadtimes,\n",
    "                     extrap_method=\"eulerian\")\n",
    "\n",
    "# Back-transform to rain rate\n",
    "R_f_el = transformation.dB_transform(R_f_el, threshold=-10.0, inverse=True)[0]"
   ]
  },
  {
   "cell_type": "markdown",
   "id": "094f44d2-cb18-4832-83d9-7f7ebdc769a7",
   "metadata": {},
   "source": [
    "# Function to plot nowcasting frames"
   ]
  },
  {
   "cell_type": "code",
   "execution_count": null,
   "id": "1faafefe-3919-4758-bf4e-fc2b3e33ca06",
   "metadata": {},
   "outputs": [],
   "source": [
    "# Time indices corresponding to t-15 min, t-10 min, t-5 min, t min\n",
    "input_indices = [0,1,2,3]\n",
    "# Time indices corresponding to t+5 min, t+10 min, t+15 min and t+30 min\n",
    "output_indices = [0,1,2,5]\n",
    "# subplot for single dataset\n",
    "def plot_radar_data(data, metadata, time_indices, text):\n",
    "    fig, axes = plt.subplots(1, len(time_indices), figsize=(32,8))\n",
    "    for i, idx in enumerate(time_indices):\n",
    "        ax = axes[i]\n",
    "        plot_precip_field(\n",
    "            data[idx, :, :],\n",
    "            ptype=\"intensity\",\n",
    "            geodata=metadata,\n",
    "            units=\"mm/h\",\n",
    "            ax=ax,\n",
    "            colorscale=\"pysteps\"\n",
    "        )\n",
    "        ax.set_title(f\"{text} {metadata['timestamps'][idx].strftime('%d/%m/%Y %H:%M')}\")\n",
    "        utility.plot_modification(ax,metadata)\n",
    "    plt.tight_layout()\n",
    "    plt.show()"
   ]
  },
  {
   "cell_type": "markdown",
   "id": "40034ccc-3765-4348-a66a-a7f9e617bc2e",
   "metadata": {},
   "source": [
    "# Plot each nowcasts"
   ]
  },
  {
   "cell_type": "code",
   "execution_count": null,
   "id": "3c9675f5-45ee-4b6c-af54-7b3438064f79",
   "metadata": {},
   "outputs": [],
   "source": [
    "plot_radar_data(R_R, metadata_R, input_indices, \"Input \")"
   ]
  },
  {
   "cell_type": "code",
   "execution_count": null,
   "id": "7cdc7cf2-1cf7-4095-b9ff-ab0173723676",
   "metadata": {},
   "outputs": [],
   "source": [
    "plot_radar_data(R_O_R, metadata_O_R, output_indices, \"Observed \")"
   ]
  },
  {
   "cell_type": "code",
   "execution_count": null,
   "id": "afcf2c1c-64cb-46d6-8708-1b7972a0de88",
   "metadata": {},
   "outputs": [],
   "source": [
    "plot_radar_data(R_f_el, metadata_O_R, output_indices, \"Persistence \")"
   ]
  },
  {
   "cell_type": "code",
   "execution_count": null,
   "id": "9e926a7a-a44c-44db-b19e-dfbee5107026",
   "metadata": {},
   "outputs": [],
   "source": [
    "plot_radar_data(R_f_sl, metadata_O_R, output_indices, \"Extrapolation \")"
   ]
  },
  {
   "cell_type": "code",
   "execution_count": null,
   "id": "69cf9292-d4a7-41b5-9847-e31477f1287f",
   "metadata": {},
   "outputs": [],
   "source": [
    "plot_radar_data(R_f_sp, metadata_O_R, output_indices, \"SPROG  \")"
   ]
  },
  {
   "cell_type": "code",
   "execution_count": null,
   "id": "0e91ece0-3b8d-406f-9148-797b714fa60d",
   "metadata": {},
   "outputs": [],
   "source": [
    "plot_radar_data(R_f_A, metadata_O_R, output_indices, \"ANVIL  \")"
   ]
  },
  {
   "cell_type": "markdown",
   "id": "896e8ed5-ed24-4149-b2db-78b433003f96",
   "metadata": {},
   "source": [
    "# Evaluation matrices among different nowcasting methods"
   ]
  },
  {
   "cell_type": "code",
   "execution_count": null,
   "id": "58aee56a-f5cd-4ac3-88eb-cabeddaf0d05",
   "metadata": {},
   "outputs": [],
   "source": [
    "from pysteps import verification\n",
    "# Compute MAE for all lead times,\n",
    "mae = verification.get_method(\"MAE\",type=\"deterministic\")\n",
    "mae_score_el =[]\n",
    "mae_score_sl =[]\n",
    "mae_score_sp =[]\n",
    "mae_score_A =[]\n",
    "for i in range(n_leadtimes):\n",
    "    mae_score_el.append(mae(R_f_el[i, :, :], R_O_R[i, :, :])[\"MAE\"])\n",
    "    mae_score_sl.append(mae(R_f_sl[i, :, :], R_O_R[i, :, :])[\"MAE\"])\n",
    "    mae_score_sp.append(mae(R_f_sp[i, :, :], R_O_R[i, :, :])[\"MAE\"])\n",
    "    mae_score_A.append(mae(R_f_A[i, :, :], R_O_R[i, :, :])[\"MAE\"])\n",
    "plt.figure()\n",
    "x = np.arange(1, n_leadtimes + 1) * timestep\n",
    "plt.plot(x, mae_score_el)\n",
    "plt.plot(x, mae_score_sl)\n",
    "plt.plot(x, mae_score_sp)\n",
    "plt.plot(x, mae_score_A)\n",
    "plt.xlabel(\"Lead time [min]\")\n",
    "plt.ylabel(\"MAE [mm/h] \")\n",
    "plt.title(\"Mean Absolute Error\")\n",
    "plt.legend([\"Persistence\",\"Extrapolation\",\"SPROG\",\"ANVIL\"], title=\"Nowcasting Methods\")\n",
    "plt.show()"
   ]
  },
  {
   "cell_type": "code",
   "execution_count": null,
   "id": "148a5db1-5c5a-4f68-b95d-1c5ad20ac823",
   "metadata": {},
   "outputs": [],
   "source": [
    "csi = verification.get_method(\"CSI\",type=\"deterministic\")\n",
    "csi_score_el =[]\n",
    "csi_score_sl =[]\n",
    "csi_score_sp =[]\n",
    "csi_score_A =[]\n",
    "for i in range(n_leadtimes):\n",
    "    csi_score_el.append(csi(R_f_el[i, :, :], R_O_R[i, :, :],thr=1.0)[\"CSI\"])\n",
    "    csi_score_sl.append(csi(R_f_sl[i, :, :], R_O_R[i, :, :],thr=1.0)[\"CSI\"])\n",
    "    csi_score_sp.append(csi(R_f_sp[i, :, :], R_O_R[i, :, :],thr=1.0)[\"CSI\"])\n",
    "    csi_score_A.append(csi(R_f_A[i, :, :], R_O_R[i, :, :],thr=1.0)[\"CSI\"])\n",
    "plt.figure()\n",
    "x = np.arange(1, n_leadtimes + 1) * timestep\n",
    "plt.plot(x, csi_score_el)\n",
    "plt.plot(x, csi_score_sl)\n",
    "plt.plot(x, csi_score_sp)\n",
    "plt.plot(x, csi_score_A)\n",
    "plt.xlabel(\"Lead time [min]\")\n",
    "plt.ylabel(\"CSI ( > 1.0 mm/h ) \")\n",
    "plt.title(\"Critical Success Index (Threshold = 1.0 mm/h) \")\n",
    "plt.legend([\"Persistence\",\"Extrapolation\",\"SPROG\",\"ANVIL\"], title=\"Nowcasting Methods\")\n",
    "plt.show()"
   ]
  },
  {
   "cell_type": "code",
   "execution_count": null,
   "id": "e77678d3-2a76-4e55-8617-5a5a0e171996",
   "metadata": {},
   "outputs": [],
   "source": [
    "csi_score_el =[]\n",
    "csi_score_sl =[]\n",
    "csi_score_sp =[]\n",
    "csi_score_A =[]\n",
    "for i in range(n_leadtimes):\n",
    "    csi_score_el.append(csi(R_f_el[i, :, :], R_O_R[i, :, :],thr = 5)[\"CSI\"])\n",
    "    csi_score_sl.append(csi(R_f_sl[i, :, :], R_O_R[i, :, :],thr = 5)[\"CSI\"])\n",
    "    csi_score_sp.append(csi(R_f_sp[i, :, :], R_O_R[i, :, :],thr = 5)[\"CSI\"])\n",
    "    csi_score_A.append(csi(R_f_A[i, :, :], R_O_R[i, :, :],thr = 5)[\"CSI\"])\n",
    "plt.figure()\n",
    "x = np.arange(1, n_leadtimes + 1) * timestep\n",
    "plt.plot(x, csi_score_el)\n",
    "plt.plot(x, csi_score_sl)\n",
    "plt.plot(x, csi_score_sp)\n",
    "plt.plot(x, csi_score_A)\n",
    "plt.xlabel(\"Lead time [min]\")\n",
    "plt.ylabel(\"CSI ( > 5 mm/h ) \")\n",
    "plt.title(\"Critical Success Index (Threshold = 5 mm/h)\")\n",
    "plt.legend([\"Persistence\",\"Extrapolation\",\"SPROG\",\"ANVIL\"], title=\"Nowcasting Methods\")\n",
    "plt.show()"
   ]
  },
  {
   "cell_type": "code",
   "execution_count": null,
   "id": "eff4c5e4-0f63-4bec-a8cd-313c3d8e4ef2",
   "metadata": {},
   "outputs": [],
   "source": [
    "# Compute fractions skill score (FSS) for all lead times, a set of scales and 1 mm/h\n",
    "fss = verification.get_method(\"FSS\",type=\"deterministic\")\n",
    "scales = [2, 4, 8, 16, 32, 64, 128, 256, 512]\n",
    "thr = 1.0\n",
    "score_el = []\n",
    "score_sl = []\n",
    "score_sp = []\n",
    "score_A = []\n",
    "for i in range(n_leadtimes):\n",
    "    score_el_ = []\n",
    "    score_sl_ = []\n",
    "    score_sp_ = []\n",
    "    score_A_ = []\n",
    "    for scale in scales:\n",
    "        score_el_.append(fss(R_f_el[i, :, :], R_O_R[i, :, :], thr, scale))\n",
    "        score_sl_.append(fss(R_f_sl[i, :, :], R_O_R[i, :, :], thr, scale))\n",
    "        score_sp_.append(fss(R_f_sp[i, :, :], R_O_R[i, :, :], thr, scale))\n",
    "        score_A_.append(fss(R_f_A[i, :, :], R_O_R[i, :, :], thr, scale)) \n",
    "    score_el.append(score_el_)\n",
    "    score_sl.append(score_sl_)\n",
    "    score_sp.append(score_sp_)\n",
    "    score_A.append(score_A_)"
   ]
  },
  {
   "cell_type": "code",
   "execution_count": null,
   "id": "096d63ac-bb40-4890-b100-058f119dd246",
   "metadata": {},
   "outputs": [],
   "source": [
    "# plot the FSS values for all the nowcasting methods\n",
    "fig, [[ax1,ax2],[ax3,ax4]] = plt.subplots(2, 2, figsize=(14,12))\n",
    "x = np.arange(1, n_leadtimes + 1) * timestep\n",
    "\n",
    "ax1.plot(x, score_el)\n",
    "ax1.legend(scales, title=\"Scale\")\n",
    "ax1.set_xlabel(\"Lead time [min]\")\n",
    "ax1.set_ylabel(\"FSS ( > 1.0 mm/h ) \")\n",
    "ax1.set_title(\"Persistence\")\n",
    "\n",
    "ax2.plot(x, score_sl)\n",
    "ax2.legend(scales, title=\"Scale\")\n",
    "ax2.set_xlabel(\"Lead time [min]\")\n",
    "ax2.set_ylabel(\"FSS ( > 1.0 mm/h ) \")\n",
    "ax2.set_title(\"Extrapolation\")\n",
    "\n",
    "ax3.plot(x, score_el)\n",
    "ax3.legend(scales, title=\"Scale\")\n",
    "ax3.set_xlabel(\"Lead time [min]\")\n",
    "ax3.set_ylabel(\"FSS ( > 1.0 mm/h ) \")\n",
    "ax3.set_title(\"SPROG\")\n",
    "\n",
    "ax4.plot(x, score_el)\n",
    "ax4.legend(scales, title=\"Scale\")\n",
    "ax4.set_xlabel(\"Lead time [min]\")\n",
    "ax4.set_ylabel(\"FSS ( > 1.0 mm/h ) \")\n",
    "ax4.set_title(\"ANVIL\")"
   ]
  },
  {
   "cell_type": "code",
   "execution_count": null,
   "id": "3730c31b-7647-40bb-8524-cd8edb3427c8",
   "metadata": {},
   "outputs": [],
   "source": [
    "# Compute fractions skill score (FSS) for all lead times, a set of scales and 5 mm/h\n",
    "fss = verification.get_method(\"FSS\",type=\"deterministic\")\n",
    "scales = [2, 4, 8, 16, 32, 64, 128, 256, 512]\n",
    "thr = 5.0\n",
    "score_el = []\n",
    "score_sl = []\n",
    "score_sp = []\n",
    "score_A = []\n",
    "for i in range(n_leadtimes):\n",
    "    score_el_ = []\n",
    "    score_sl_ = []\n",
    "    score_sp_ = []\n",
    "    score_A_ = []\n",
    "    for scale in scales:\n",
    "        score_el_.append(fss(R_f_el[i, :, :], R_O_R[i, :, :], thr, scale))\n",
    "        score_sl_.append(fss(R_f_sl[i, :, :], R_O_R[i, :, :], thr, scale))\n",
    "        score_sp_.append(fss(R_f_sp[i, :, :], R_O_R[i, :, :], thr, scale))\n",
    "        score_A_.append(fss(R_f_A[i, :, :], R_O_R[i, :, :], thr, scale)) \n",
    "    score_el.append(score_el_)\n",
    "    score_sl.append(score_sl_)\n",
    "    score_sp.append(score_sp_)\n",
    "    score_A.append(score_A_)"
   ]
  },
  {
   "cell_type": "code",
   "execution_count": null,
   "id": "b7c4409a-fc1b-4a98-9ca9-f044e7b3989c",
   "metadata": {},
   "outputs": [],
   "source": [
    "# plot the FSS values for all the nowcasting methods\n",
    "fig, [[ax1,ax2],[ax3,ax4]] = plt.subplots(2, 2, figsize=(14,12))\n",
    "x = np.arange(1, n_leadtimes + 1) * timestep\n",
    "\n",
    "ax1.plot(x, score_el)\n",
    "ax1.legend(scales, title=\"Scale\")\n",
    "ax1.set_xlabel(\"Lead time [min]\")\n",
    "ax1.set_ylabel(\"FSS ( > 5.0 mm/h ) \")\n",
    "ax1.set_title(\"Persistence\")\n",
    "\n",
    "ax2.plot(x, score_sl)\n",
    "ax2.legend(scales, title=\"Scale\")\n",
    "ax2.set_xlabel(\"Lead time [min]\")\n",
    "ax2.set_ylabel(\"FSS ( > 5.0 mm/h ) \")\n",
    "ax2.set_title(\"Extrapolation\")\n",
    "\n",
    "ax3.plot(x, score_el)\n",
    "ax3.legend(scales, title=\"Scale\")\n",
    "ax3.set_xlabel(\"Lead time [min]\")\n",
    "ax3.set_ylabel(\"FSS ( > 5.0 mm/h ) \")\n",
    "ax3.set_title(\"SPROG\")\n",
    "\n",
    "ax4.plot(x, score_el)\n",
    "ax4.legend(scales, title=\"Scale\")\n",
    "ax4.set_xlabel(\"Lead time [min]\")\n",
    "ax4.set_ylabel(\"FSS ( > 5.0 mm/h ) \")\n",
    "ax4.set_title(\"ANVIL\")"
   ]
  },
  {
   "cell_type": "markdown",
   "id": "5e80a4a2-7ebd-44c1-b00b-f35b3bbab896",
   "metadata": {},
   "source": [
    "# Power Spectral Density plot comparison for 5, 10, 15 and 30 min nowcasts"
   ]
  },
  {
   "cell_type": "code",
   "execution_count": null,
   "id": "e54d7e62-4317-44fa-a97d-392d754439a5",
   "metadata": {},
   "outputs": [],
   "source": [
    "from pysteps.visualization import plot_spectrum1d\n",
    "from pysteps.utils import rapsd\n",
    "\n",
    "output_indices = [0,1,2,5]\n",
    "plot_scales = [512, 256, 128, 64, 32, 16, 8, 4, 2, 1]\n",
    "\n",
    "# Assign the fill value to all the Nans\n",
    "R_O_R[~np.isfinite(R_O_R)] = metadata_O[\"zerovalue\"]\n",
    "R_f_el[~np.isfinite(R_f_el)] = metadata_O[\"zerovalue\"]\n",
    "R_f_sl[~np.isfinite(R_f_sl)] = metadata_O[\"zerovalue\"]\n",
    "R_f_sp[~np.isfinite(R_f_sp)] = metadata_O[\"zerovalue\"]\n",
    "R_f_A[~np.isfinite(R_f_A)] = metadata_O[\"zerovalue\"]\n",
    "\n",
    "fig, axes = plt.subplots(1, len(output_indices), figsize=(24,4))\n",
    "for i, idx in enumerate(output_indices):\n",
    "    ax = axes[i]\n",
    "    R_O_, freq_O = rapsd(R_O_R[idx,:,:], fft_method=np.fft, return_freq=True)\n",
    "    R_f_el_,freq_el = rapsd(R_f_el[idx,:,:], fft_method=np.fft, return_freq=True)\n",
    "    R_f_sl_,freq_sl = rapsd(R_f_sl[idx,:,:], fft_method=np.fft, return_freq=True)\n",
    "    R_f_sp_,freq_sp = rapsd(R_f_sp[idx,:,:], fft_method=np.fft, return_freq=True)\n",
    "    R_f_A_,freq_A = rapsd(R_f_A[idx,:,:], fft_method=np.fft, return_freq=True)\n",
    "\n",
    "    # Plot the observed power spectrum and the model\n",
    "    plot_spectrum1d(freq_O,R_O_,x_units=\"pixels\",y_units=\"R[mm/h]\",color=\"k\",ax=ax,wavelength_ticks=plot_scales)\n",
    "    plot_spectrum1d(freq_el,R_f_el_,x_units=\"pixels\",y_units=\"R[mm/h]\",color=\"r\",ax=ax,wavelength_ticks=plot_scales)\n",
    "    plot_spectrum1d(freq_sl,R_f_sl_,x_units=\"pixels\",y_units=\"R[mm/h]\",color=\"b\",ax=ax,wavelength_ticks=plot_scales)\n",
    "    plot_spectrum1d(freq_sp,R_f_sp_,x_units=\"pixels\",y_units=\"R[mm/h]\",color=\"c\",ax=ax,wavelength_ticks=plot_scales)\n",
    "    plot_spectrum1d(freq_A,R_f_A_,x_units=\"pixels\",y_units=\"R[mm/h]\",color=\"m\",ax=ax,wavelength_ticks=plot_scales)\n",
    "    ax.legend([\"Observed\",\"Persistence\",\"Extrapolation\",\"SPROG\",\"ANVIL\"])"
   ]
  }
 ],
 "metadata": {
  "kernelspec": {
   "display_name": "Python 3 (ipykernel)",
   "language": "python",
   "name": "python3"
  },
  "language_info": {
   "codemirror_mode": {
    "name": "ipython",
    "version": 3
   },
   "file_extension": ".py",
   "mimetype": "text/x-python",
   "name": "python",
   "nbconvert_exporter": "python",
   "pygments_lexer": "ipython3",
   "version": "3.12.8"
  }
 },
 "nbformat": 4,
 "nbformat_minor": 5
}
