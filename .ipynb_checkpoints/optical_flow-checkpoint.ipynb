{
 "cells": [
  {
   "cell_type": "code",
   "execution_count": null,
   "id": "56700b61-2941-4b25-a804-b830aef0520d",
   "metadata": {},
   "outputs": [],
   "source": [
    "import os\n",
    "os.getcwd()"
   ]
  },
  {
   "cell_type": "code",
   "execution_count": null,
   "id": "6823a953-f556-49bd-9eb6-f126b5661dea",
   "metadata": {},
   "outputs": [],
   "source": [
    "root_path = os.getcwd()"
   ]
  },
  {
   "cell_type": "code",
   "execution_count": null,
   "id": "31212730-45b4-4bc7-af6a-5292af00b664",
   "metadata": {},
   "outputs": [],
   "source": [
    "# Import Necessary Libraries\n",
    "import numpy as np\n",
    "from datetime import datetime\n",
    "import pysteps\n",
    "# Import utility functions from the repository (custom functions for data loading and other functionalities\n",
    "import utility   "
   ]
  },
  {
   "cell_type": "code",
   "execution_count": null,
   "id": "49e65561-d58c-44fb-8590-2280e8f2f808",
   "metadata": {},
   "outputs": [],
   "source": [
    "# Define the data directory for the repository data\n",
    "data_path = os.path.join(root_path, \"Data\")\n",
    "# Define metadata files\n",
    "metadata_X = utility.get_matadata(os.path.join(data_path, \"radarmappatipo.tif\"), type=\"X\")\n",
    "# metadata_C = utility.get_matadata(os.path.join(data_path, \"civilpromap.tiff\"), type=\"C\")"
   ]
  },
  {
   "cell_type": "markdown",
   "id": "e984037e-55f4-4543-a22f-5d4d6f7809ca",
   "metadata": {},
   "source": [
    "# Look for Event folder"
   ]
  },
  {
   "cell_type": "code",
   "execution_count": null,
   "id": "88cdb495-b978-4907-8396-9583ee6b9bca",
   "metadata": {},
   "outputs": [],
   "source": [
    "# List all folders in the data path\n",
    "folders = [folder for folder in os.listdir(data_path) if os.path.isdir(os.path.join(data_path, folder))]\n",
    "folders"
   ]
  },
  {
   "cell_type": "code",
   "execution_count": null,
   "id": "4508ef24-ac90-45a3-94da-464e37d8dc1c",
   "metadata": {},
   "outputs": [],
   "source": [
    "events = [event for event in os.listdir(os.path.join(data_path,'UNICA_SG')) if os.path.isdir(os.path.join(data_path, 'UNICA_SG', event))]\n",
    "events"
   ]
  },
  {
   "cell_type": "code",
   "execution_count": null,
   "id": "dc4f2be0-a178-421f-8906-5db504731bc8",
   "metadata": {},
   "outputs": [],
   "source": [
    "events[3]"
   ]
  },
  {
   "cell_type": "markdown",
   "id": "1ba52f9d-0f84-4f75-a1ba-b8f6028b4e54",
   "metadata": {},
   "source": [
    "# Check the number of file available for analysis"
   ]
  },
  {
   "cell_type": "code",
   "execution_count": null,
   "id": "8d56cab8-5c28-4451-8e40-82bad0c7b107",
   "metadata": {},
   "outputs": [],
   "source": [
    "count_events = [utility.count_files(os.path.join(data_path, 'UNICA_SG', events[i]), 'png') for i in range(len(events))]\n",
    "count_events"
   ]
  },
  {
   "cell_type": "markdown",
   "id": "20e036c1-f40a-49ae-a4c2-45180b88f34f",
   "metadata": {},
   "source": [
    "# Load and Process X-Band Radar Data"
   ]
  },
  {
   "cell_type": "code",
   "execution_count": null,
   "id": "9cdc3f6a-2392-432b-9803-b9dd08d5d2f5",
   "metadata": {},
   "outputs": [],
   "source": [
    "# Define parameters for X-band radar data\n",
    "data_source_X = 'UNICA_SG'\n",
    "event_subdir = events[3]\n",
    "f_ext_X = \"png\"\n",
    "num_prev_files =9\n",
    "timestep = 5"
   ]
  },
  {
   "cell_type": "code",
   "execution_count": null,
   "id": "041f7e87-104a-4887-bec6-85430e3a0eef",
   "metadata": {},
   "outputs": [],
   "source": [
    "# Choose the date for particular subset\n",
    "eventdates = [eventdate for eventdate in os.listdir(os.path.join(data_path,'UNICA_SG',event_subdir)) if os.path.isfile(os.path.join(data_path,'UNICA_SG', event_subdir,eventdate))]\n",
    "eventdates"
   ]
  },
  {
   "cell_type": "code",
   "execution_count": null,
   "id": "8cb7bf6b-2322-4ac8-8a42-8409ec6ae25c",
   "metadata": {},
   "outputs": [],
   "source": [
    "date = datetime.strptime('20191222_0820.png', \"%Y%m%d_%H%M.png\")\n",
    "date"
   ]
  },
  {
   "cell_type": "code",
   "execution_count": null,
   "id": "748837e2-61fc-4f08-ae24-b740aabf49c5",
   "metadata": {},
   "outputs": [],
   "source": [
    "# Load X-band radar data\n",
    "R_X, metadata_X = utility.import_files_by_date(date, data_path, data_source_X,event_subdir, f_ext_X, metadata_X,num_prev_files,0,timestep=timestep)"
   ]
  },
  {
   "cell_type": "code",
   "execution_count": null,
   "id": "0ce24654-3c98-433e-ab5c-517097942446",
   "metadata": {},
   "outputs": [],
   "source": [
    "# Verify results\n",
    "print(\"Radar Data Shape:\", R_X.shape)\n",
    "print(\"Timestamps:\", metadata_X[\"timestamps\"])"
   ]
  },
  {
   "cell_type": "markdown",
   "id": "997e7da0-f4a4-4315-8583-0e6d0da143da",
   "metadata": {},
   "source": [
    "# Noise Removal"
   ]
  },
  {
   "cell_type": "code",
   "execution_count": null,
   "id": "e1568477-3057-4296-90ac-54dc65cb6da3",
   "metadata": {},
   "outputs": [],
   "source": [
    "# Noise removal using Watershed technique\n",
    "R_X_clean = np.empty_like(R_X)\n",
    "for t in range(R_X.shape[0]):\n",
    "    R_X_clean[t, :, :] = utility.noise_remove(R_X[t, :, :], type=\"Watershed\")"
   ]
  },
  {
   "cell_type": "markdown",
   "id": "593d5536-f88a-4ce6-95e5-b45d18422879",
   "metadata": {},
   "source": [
    "# Data Transfromation"
   ]
  },
  {
   "cell_type": "code",
   "execution_count": null,
   "id": "947ea43e-851f-4565-846b-1477906c3e2b",
   "metadata": {},
   "outputs": [],
   "source": [
    "# Convert Digital Number to Reflectivity (dBZ)\n",
    "R_X_dbz,metadata_dbz = utility.dn_to_dbz(R_X_clean,metadata_X)\n",
    "# Convert to rain rate\n",
    "R_X_R, metadata_R = pysteps.utils.conversion.to_rainrate(R_X_dbz, metadata_dbz)\n",
    "# Log-transform the data\n",
    "R_dBR, metadata_dBR = pysteps.utils.transformation.dB_transform(R_X_R, metadata_X, threshold=0.01, zerovalue=-15.0)"
   ]
  },
  {
   "cell_type": "code",
   "execution_count": null,
   "id": "ac31ffef-cad2-4697-b8ea-09ef63788fe7",
   "metadata": {},
   "outputs": [],
   "source": [
    "# Print metadata\n",
    "from pprint import pprint\n",
    "pprint(metadata_dBR)"
   ]
  },
  {
   "cell_type": "markdown",
   "id": "71629236-d80d-487b-ad2f-67b46fd2e35e",
   "metadata": {},
   "source": [
    "# Rain Intensity GIF\n"
   ]
  },
  {
   "cell_type": "code",
   "execution_count": null,
   "id": "bac6a648-3b6e-45c5-a052-f9cd9aa2064b",
   "metadata": {},
   "outputs": [],
   "source": [
    "# Create a GIF that loops indefinitely\n",
    "utility.create_gif(R_X_dbz, metadata_X,duration=5, units=\"mm/h\", title=\"Precipitation Intensity\",loop=True)"
   ]
  },
  {
   "cell_type": "markdown",
   "id": "685e7ddc-fe2e-4c9a-83f3-99d69a20eefc",
   "metadata": {},
   "source": [
    "# Motion Field Estimation - Lucas Kanade (LK)\n",
    "## It needs only 3 scans"
   ]
  },
  {
   "cell_type": "code",
   "execution_count": null,
   "id": "ecfbc392-8041-4900-9ea6-28c5cb62ddca",
   "metadata": {},
   "outputs": [],
   "source": [
    "# Estimate motion field using Lucas-Kanade optical flow\n",
    "oflow_method = pysteps.motion.get_method(\"LK\")\n",
    "V1 = oflow_method(R_dBR[-10:, :, :])"
   ]
  },
  {
   "cell_type": "markdown",
   "id": "72e78932-bbd9-4cec-afea-1469e7bf6143",
   "metadata": {},
   "source": [
    "# Visualization"
   ]
  },
  {
   "cell_type": "code",
   "execution_count": null,
   "id": "8d224f97-3747-4f18-964d-58612398ade3",
   "metadata": {},
   "outputs": [],
   "source": [
    "# Plot precipitation field and motion field\n",
    "import matplotlib.pyplot as plt\n",
    "from pysteps.visualization import plot_precip_field, quiver\n",
    "fig, ax = plt.subplots(figsize=(10, 8))\n",
    "# Precipitation field\n",
    "plot_precip_field(\n",
    "    R_X_dbz[-1, :, :], \n",
    "    ptype=\"intensity\", \n",
    "    geodata=metadata_dbz, \n",
    "    units=\"mm/h\", \n",
    "    title= \"Lucas Kanade Optical Flow Method of \"+ metadata_dbz['timestamps'][2].strftime(\"%d/%m/%Y %H:%M\"),\n",
    "    ax=ax, \n",
    "    colorscale=\"pysteps\"\n",
    ")\n",
    "# Motion field (quiver plot)\n",
    "quiver(V1, geodata=metadata_dbz, step=45, ax=ax)\n",
    "utility.plot_modification(ax,metadata_dbz)"
   ]
  },
  {
   "cell_type": "markdown",
   "id": "1fd33242-d68f-42b2-8563-c999b652564a",
   "metadata": {},
   "source": [
    "# Motion Field Estimation- Variational echo tracking (VET) Method\n",
    "## It needs only  3 scans\n",
    "### (it will take some time to run the algorithm)"
   ]
  },
  {
   "cell_type": "code",
   "execution_count": null,
   "id": "edd15c31-2a4a-44bd-a980-2b4035f4acba",
   "metadata": {},
   "outputs": [],
   "source": [
    "oflow_method = pysteps.motion.get_method(\"VET\")\n",
    "V2 = oflow_method(R_dBR[-3:, :, :])\n",
    "\n",
    "# Plot the motion field\n",
    "fig, ax = plt.subplots(figsize=(10, 8))\n",
    "# Precipitation field\n",
    "plot_precip_field(\n",
    "    R_X_dbz[-1, :, :], \n",
    "    ptype=\"intensity\", \n",
    "    geodata=metadata_dbz, \n",
    "    units=\"mm/h\", \n",
    "    title=\"VET Method of \"+ metadata_dbz['timestamps'][2].strftime(\"%d/%m/%Y %H:%M\"), \n",
    "    ax=ax, \n",
    "    colorscale=\"pysteps\"\n",
    ")\n",
    "quiver(V2, geodata=metadata_dbz, step=45,ax=ax)\n",
    "utility.plot_modification(ax,metadata_dbz)"
   ]
  },
  {
   "cell_type": "markdown",
   "id": "4fa27c4a-fbff-4c40-9f7a-034f06c1f027",
   "metadata": {},
   "source": [
    "# Motion Field Estimation - Dynamic and adaptive radar tracking of storms (DARTS)\n",
    "## It needs last 10 scans"
   ]
  },
  {
   "cell_type": "code",
   "execution_count": null,
   "id": "fdf5f50d-88d6-470c-9260-908f8bd14da6",
   "metadata": {},
   "outputs": [],
   "source": [
    "oflow_method = pysteps.motion.get_method(\"DARTS\")\n",
    "R_dBR[~np.isfinite(R_dBR)] = metadata_dBR[\"zerovalue\"]\n",
    "V3 = oflow_method(R_dBR[-10:,:,:])  # needs longer training sequence"
   ]
  },
  {
   "cell_type": "code",
   "execution_count": null,
   "id": "4394a47d-1a8b-42fa-8778-f39cef16c359",
   "metadata": {},
   "outputs": [],
   "source": [
    "# Plot the motion field\n",
    "fig, ax = plt.subplots(figsize=(10, 8))\n",
    "# Precipitation field\n",
    "plot_precip_field(\n",
    "    R_X_dbz[-1, :, :], \n",
    "    ptype=\"intensity\", \n",
    "    geodata=metadata_dbz, \n",
    "    units=\"mm/h\", \n",
    "    title=\"DARTS Method of \"+ metadata_dbz['timestamps'][9].strftime(\"%d/%m/%Y %H:%M\"), \n",
    "    ax=ax, \n",
    "    colorscale=\"pysteps\"\n",
    ")\n",
    "quiver(V3, geodata=metadata_dbz, step=45,ax=ax)\n",
    "utility.plot_modification(ax,metadata_dbz)"
   ]
  },
  {
   "cell_type": "markdown",
   "id": "b65ba4bf-5437-4a24-8861-9410be44f4aa",
   "metadata": {},
   "source": [
    "# Motion Field Estimation -  Anisotropic Diffusion Method \n",
    "## It need only last 2 scans"
   ]
  },
  {
   "cell_type": "code",
   "execution_count": null,
   "id": "62cf9758-5ee0-4e34-acb1-c4c82869845e",
   "metadata": {},
   "outputs": [],
   "source": [
    "oflow_method = pysteps.motion.get_method(\"proesmans\")\n",
    "R_dBR[~np.isfinite(R_dBR)] = metadata_dBR[\"zerovalue\"]\n",
    "V4 = oflow_method(R_dBR[-2:, :, :])"
   ]
  },
  {
   "cell_type": "code",
   "execution_count": null,
   "id": "4677cfa9-c1e5-4ea4-82f4-71744ae11e5e",
   "metadata": {},
   "outputs": [],
   "source": [
    "# Plot the motion field\n",
    "fig, ax = plt.subplots(figsize=(10, 8))\n",
    "# Precipitation field\n",
    "plot_precip_field(\n",
    "    R_X_dbz[-1, :, :], \n",
    "    ptype=\"intensity\", \n",
    "    geodata=metadata_dbz, \n",
    "    units=\"mm/h\", \n",
    "    title=\"Anisotropic Diffusion Method of \"+ metadata_dbz['timestamps'][2].strftime(\"%d/%m/%Y %H:%M\"), \n",
    "    ax=ax, \n",
    "    colorscale=\"pysteps\"\n",
    ")\n",
    "quiver(V4, geodata=metadata_dbz, step=45,ax=ax)\n",
    "utility.plot_modification(ax,metadata_dbz)"
   ]
  }
 ],
 "metadata": {
  "kernelspec": {
   "display_name": "Python 3 (ipykernel)",
   "language": "python",
   "name": "python3"
  },
  "language_info": {
   "codemirror_mode": {
    "name": "ipython",
    "version": 3
   },
   "file_extension": ".py",
   "mimetype": "text/x-python",
   "name": "python",
   "nbconvert_exporter": "python",
   "pygments_lexer": "ipython3",
   "version": "3.12.8"
  }
 },
 "nbformat": 4,
 "nbformat_minor": 5
}
