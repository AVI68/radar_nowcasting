{
 "cells": [
  {
   "cell_type": "markdown",
   "id": "769ab9f2-b99f-475d-acaf-e0594089af3c",
   "metadata": {},
   "source": [
    "# Loading Radar Data"
   ]
  },
  {
   "cell_type": "code",
   "execution_count": 2,
   "id": "1494fe81-967d-4844-b420-8683010851f7",
   "metadata": {},
   "outputs": [
    {
     "name": "stdout",
     "output_type": "stream",
     "text": [
      "Radar Data Shape: (3, 1024, 1024)\n",
      "Timestamps: [datetime.datetime(2019, 12, 22, 6, 10)\n",
      " datetime.datetime(2019, 12, 22, 6, 15)\n",
      " datetime.datetime(2019, 12, 22, 6, 20)]\n"
     ]
    }
   ],
   "source": [
    "# Import Necessary Libraries\n",
    "import os\n",
    "import numpy as np\n",
    "from datetime import datetime\n",
    "import pysteps\n",
    "# Import utility functions from the repository (custom functions for data loading and other functionalities\n",
    "import utility   \n",
    "root_path = os.getcwd()\n",
    "# Define the data directory for the repository data\n",
    "data_path = os.path.join(root_path, \"Data\")\n",
    "# Define metadata files\n",
    "metadata_X = utility.get_matadata(os.path.join(data_path, \"radarmappatipo.tif\"), type=\"X\")\n",
    "folders = [folder for folder in os.listdir(data_path) if os.path.isdir(os.path.join(data_path, folder))]\n",
    "events = [event for event in os.listdir(os.path.join(data_path,'UNICA_SG')) if os.path.isdir(os.path.join(data_path,'UNICA_SG', event))]\n",
    "# Define parameters for X-band radar data\n",
    "data_source_X = 'UNICA_SG'\n",
    "event_subdir = events[3]\n",
    "f_ext_X = \"png\"\n",
    "num_prev_files =2\n",
    "timestep = 5\n",
    "# Choose the date for particular subset\n",
    "eventdates = [eventdate for eventdate in os.listdir(os.path.join(data_path,'UNICA_SG',event_subdir)) if os.path.isfile(os.path.join(data_path,'UNICA_SG', event_subdir,eventdate))]\n",
    "# extract the date in datetime format from the filename\n",
    "date = datetime.strptime('20191222_0620.png', \"%Y%m%d_%H%M.png\")\n",
    "# Load X-band radar data\n",
    "R_X, metadata_X = utility.import_files_by_date(date, data_path, data_source_X,event_subdir, f_ext_X, metadata_X,num_prev_files,0,timestep=timestep)\n",
    "# Verify results\n",
    "print(\"Radar Data Shape:\", R_X.shape)\n",
    "print(\"Timestamps:\", metadata_X[\"timestamps\"])"
   ]
  }
 ],
 "metadata": {
  "kernelspec": {
   "display_name": "Python 3 (ipykernel)",
   "language": "python",
   "name": "python3"
  },
  "language_info": {
   "codemirror_mode": {
    "name": "ipython",
    "version": 3
   },
   "file_extension": ".py",
   "mimetype": "text/x-python",
   "name": "python",
   "nbconvert_exporter": "python",
   "pygments_lexer": "ipython3",
   "version": "3.12.8"
  }
 },
 "nbformat": 4,
 "nbformat_minor": 5
}
