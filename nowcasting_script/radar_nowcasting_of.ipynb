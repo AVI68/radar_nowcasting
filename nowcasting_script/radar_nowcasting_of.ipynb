{
 "cells": [
  {
   "cell_type": "code",
   "execution_count": 2,
   "id": "f3151dc5-f521-4e32-a993-fed44e230d82",
   "metadata": {},
   "outputs": [
    {
     "name": "stderr",
     "output_type": "stream",
     "text": [
      "Cloning into 'radar_nowcasting'...\n",
      "Updating files:  30% (60/198)\n",
      "Updating files:  31% (62/198)\n",
      "Updating files:  32% (64/198)\n",
      "Updating files:  33% (66/198)\n",
      "Updating files:  34% (68/198)\n",
      "Updating files:  35% (70/198)\n",
      "Updating files:  36% (72/198)\n",
      "Updating files:  37% (74/198)\n",
      "Updating files:  38% (76/198)\n",
      "Updating files:  39% (78/198)\n",
      "Updating files:  40% (80/198)\n",
      "Updating files:  41% (82/198)\n",
      "Updating files:  42% (84/198)\n",
      "Updating files:  43% (86/198)\n",
      "Updating files:  44% (88/198)\n",
      "Updating files:  45% (90/198)\n",
      "Updating files:  46% (92/198)\n",
      "Updating files:  47% (94/198)\n",
      "Updating files:  48% (96/198)\n",
      "Updating files:  49% (98/198)\n",
      "Updating files:  50% (99/198)\n",
      "Updating files:  51% (101/198)\n",
      "Updating files:  52% (103/198)\n",
      "Updating files:  53% (105/198)\n",
      "Updating files:  54% (107/198)\n",
      "Updating files:  55% (109/198)\n",
      "Updating files:  56% (111/198)\n",
      "Updating files:  57% (113/198)\n",
      "Updating files:  58% (115/198)\n",
      "Updating files:  59% (117/198)\n",
      "Updating files:  60% (119/198)\n",
      "Updating files:  61% (121/198)\n",
      "Updating files:  62% (123/198)\n",
      "Updating files:  63% (125/198)\n",
      "Updating files:  64% (127/198)\n",
      "Updating files:  65% (129/198)\n",
      "Updating files:  66% (131/198)\n",
      "Updating files:  67% (133/198)\n",
      "Updating files:  68% (135/198)\n",
      "Updating files:  69% (137/198)\n",
      "Updating files:  70% (139/198)\n",
      "Updating files:  71% (141/198)\n",
      "Updating files:  72% (143/198)\n",
      "Updating files:  73% (145/198)\n",
      "Updating files:  74% (147/198)\n",
      "Updating files:  75% (149/198)\n",
      "Updating files:  76% (151/198)\n",
      "Updating files:  77% (153/198)\n",
      "Updating files:  78% (155/198)\n",
      "Updating files:  79% (157/198)\n",
      "Updating files:  80% (159/198)\n",
      "Updating files:  81% (161/198)\n",
      "Updating files:  82% (163/198)\n",
      "Updating files:  83% (165/198)\n",
      "Updating files:  84% (167/198)\n",
      "Updating files:  85% (169/198)\n",
      "Updating files:  86% (171/198)\n",
      "Updating files:  87% (173/198)\n",
      "Updating files:  88% (175/198)\n",
      "Updating files:  89% (177/198)\n",
      "Updating files:  90% (179/198)\n",
      "Updating files:  91% (181/198)\n",
      "Updating files:  92% (183/198)\n",
      "Updating files:  93% (185/198)\n",
      "Updating files:  94% (187/198)\n",
      "Updating files:  95% (189/198)\n",
      "Updating files:  96% (191/198)\n",
      "Updating files:  97% (193/198)\n",
      "Updating files:  98% (195/198)\n",
      "Updating files:  99% (197/198)\n",
      "Updating files: 100% (198/198)\n",
      "Updating files: 100% (198/198), done.\n"
     ]
    },
    {
     "name": "stdout",
     "output_type": "stream",
     "text": [
      "Code\n",
      "Data\n",
      "README.md\n"
     ]
    }
   ],
   "source": [
    "# Clone the GitHub repository\n",
    "!git clone https://github.com/AVI68/radar_nowcasting.git\n",
    "\n",
    "# Navigate to the repository directory\n",
    "import os\n",
    "os.chdir(\"radar_nowcasting\")\n",
    "\n",
    "# Verify the repository content\n",
    "!ls\n"
   ]
  },
  {
   "cell_type": "code",
   "execution_count": 3,
   "id": "5bb67a1f-7ad3-49a4-8c73-82391d8c0449",
   "metadata": {},
   "outputs": [
    {
     "name": "stdout",
     "output_type": "stream",
     "text": [
      "Requirement already satisfied: pysteps in c:\\users\\utente\\anaconda3\\envs\\avi_ppt_dwnsc\\lib\\site-packages (1.8.1)\n",
      "Requirement already satisfied: pyproj in c:\\users\\utente\\anaconda3\\envs\\avi_ppt_dwnsc\\lib\\site-packages (3.6.1)\n",
      "Requirement already satisfied: contextily in c:\\users\\utente\\anaconda3\\envs\\avi_ppt_dwnsc\\lib\\site-packages (1.6.0)\n",
      "Requirement already satisfied: matplotlib in c:\\users\\utente\\anaconda3\\envs\\avi_ppt_dwnsc\\lib\\site-packages (3.9.1)\n",
      "Requirement already satisfied: numpy in c:\\users\\utente\\anaconda3\\envs\\avi_ppt_dwnsc\\lib\\site-packages (from pysteps) (1.26.4)\n",
      "Requirement already satisfied: jsmin in c:\\users\\utente\\anaconda3\\envs\\avi_ppt_dwnsc\\lib\\site-packages (from pysteps) (3.0.1)\n",
      "Requirement already satisfied: scipy in c:\\users\\utente\\anaconda3\\envs\\avi_ppt_dwnsc\\lib\\site-packages (from pysteps) (1.14.0)\n",
      "Requirement already satisfied: jsonschema in c:\\users\\utente\\anaconda3\\envs\\avi_ppt_dwnsc\\lib\\site-packages (from pysteps) (4.22.0)\n",
      "Requirement already satisfied: certifi in c:\\users\\utente\\anaconda3\\envs\\avi_ppt_dwnsc\\lib\\site-packages (from pyproj) (2024.8.30)\n",
      "Requirement already satisfied: geopy in c:\\users\\utente\\anaconda3\\envs\\avi_ppt_dwnsc\\lib\\site-packages (from contextily) (2.4.1)\n",
      "Requirement already satisfied: mercantile in c:\\users\\utente\\anaconda3\\envs\\avi_ppt_dwnsc\\lib\\site-packages (from contextily) (1.2.1)\n",
      "Requirement already satisfied: pillow in c:\\users\\utente\\anaconda3\\envs\\avi_ppt_dwnsc\\lib\\site-packages (from contextily) (10.3.0)\n",
      "Requirement already satisfied: rasterio in c:\\users\\utente\\anaconda3\\envs\\avi_ppt_dwnsc\\lib\\site-packages (from contextily) (1.3.10)\n",
      "Requirement already satisfied: requests in c:\\users\\utente\\anaconda3\\envs\\avi_ppt_dwnsc\\lib\\site-packages (from contextily) (2.32.3)\n",
      "Requirement already satisfied: joblib in c:\\users\\utente\\anaconda3\\envs\\avi_ppt_dwnsc\\lib\\site-packages (from contextily) (1.4.2)\n",
      "Requirement already satisfied: xyzservices in c:\\users\\utente\\anaconda3\\envs\\avi_ppt_dwnsc\\lib\\site-packages (from contextily) (2024.6.0)\n",
      "Requirement already satisfied: contourpy>=1.0.1 in c:\\users\\utente\\anaconda3\\envs\\avi_ppt_dwnsc\\lib\\site-packages (from matplotlib) (1.2.1)\n",
      "Requirement already satisfied: cycler>=0.10 in c:\\users\\utente\\anaconda3\\envs\\avi_ppt_dwnsc\\lib\\site-packages (from matplotlib) (0.12.1)\n",
      "Requirement already satisfied: fonttools>=4.22.0 in c:\\users\\utente\\anaconda3\\envs\\avi_ppt_dwnsc\\lib\\site-packages (from matplotlib) (4.51.0)\n",
      "Requirement already satisfied: kiwisolver>=1.3.1 in c:\\users\\utente\\anaconda3\\envs\\avi_ppt_dwnsc\\lib\\site-packages (from matplotlib) (1.4.5)\n",
      "Requirement already satisfied: packaging>=20.0 in c:\\users\\utente\\anaconda3\\envs\\avi_ppt_dwnsc\\lib\\site-packages (from matplotlib) (24.0)\n",
      "Requirement already satisfied: pyparsing>=2.3.1 in c:\\users\\utente\\anaconda3\\envs\\avi_ppt_dwnsc\\lib\\site-packages (from matplotlib) (3.1.2)\n",
      "Requirement already satisfied: python-dateutil>=2.7 in c:\\users\\utente\\anaconda3\\envs\\avi_ppt_dwnsc\\lib\\site-packages (from matplotlib) (2.9.0)\n",
      "Requirement already satisfied: six>=1.5 in c:\\users\\utente\\anaconda3\\envs\\avi_ppt_dwnsc\\lib\\site-packages (from python-dateutil>=2.7->matplotlib) (1.16.0)\n",
      "Requirement already satisfied: geographiclib<3,>=1.52 in c:\\users\\utente\\anaconda3\\envs\\avi_ppt_dwnsc\\lib\\site-packages (from geopy->contextily) (2.0)\n",
      "Requirement already satisfied: attrs>=22.2.0 in c:\\users\\utente\\anaconda3\\envs\\avi_ppt_dwnsc\\lib\\site-packages (from jsonschema->pysteps) (23.2.0)\n",
      "Requirement already satisfied: jsonschema-specifications>=2023.03.6 in c:\\users\\utente\\anaconda3\\envs\\avi_ppt_dwnsc\\lib\\site-packages (from jsonschema->pysteps) (2023.12.1)\n",
      "Requirement already satisfied: referencing>=0.28.4 in c:\\users\\utente\\anaconda3\\envs\\avi_ppt_dwnsc\\lib\\site-packages (from jsonschema->pysteps) (0.35.1)\n",
      "Requirement already satisfied: rpds-py>=0.7.1 in c:\\users\\utente\\anaconda3\\envs\\avi_ppt_dwnsc\\lib\\site-packages (from jsonschema->pysteps) (0.18.1)\n",
      "Requirement already satisfied: click>=3.0 in c:\\users\\utente\\anaconda3\\envs\\avi_ppt_dwnsc\\lib\\site-packages (from mercantile->contextily) (8.1.7)\n",
      "Requirement already satisfied: affine in c:\\users\\utente\\anaconda3\\envs\\avi_ppt_dwnsc\\lib\\site-packages (from rasterio->contextily) (2.4.0)\n",
      "Requirement already satisfied: cligj>=0.5 in c:\\users\\utente\\anaconda3\\envs\\avi_ppt_dwnsc\\lib\\site-packages (from rasterio->contextily) (0.7.2)\n",
      "Requirement already satisfied: snuggs>=1.4.1 in c:\\users\\utente\\anaconda3\\envs\\avi_ppt_dwnsc\\lib\\site-packages (from rasterio->contextily) (1.4.7)\n",
      "Requirement already satisfied: click-plugins in c:\\users\\utente\\anaconda3\\envs\\avi_ppt_dwnsc\\lib\\site-packages (from rasterio->contextily) (1.1.1)\n",
      "Requirement already satisfied: setuptools in c:\\users\\utente\\anaconda3\\envs\\avi_ppt_dwnsc\\lib\\site-packages (from rasterio->contextily) (69.5.1)\n",
      "Requirement already satisfied: charset-normalizer<4,>=2 in c:\\users\\utente\\anaconda3\\envs\\avi_ppt_dwnsc\\lib\\site-packages (from requests->contextily) (3.3.2)\n",
      "Requirement already satisfied: idna<4,>=2.5 in c:\\users\\utente\\anaconda3\\envs\\avi_ppt_dwnsc\\lib\\site-packages (from requests->contextily) (3.7)\n",
      "Requirement already satisfied: urllib3<3,>=1.21.1 in c:\\users\\utente\\anaconda3\\envs\\avi_ppt_dwnsc\\lib\\site-packages (from requests->contextily) (2.2.2)\n",
      "Requirement already satisfied: colorama in c:\\users\\utente\\anaconda3\\envs\\avi_ppt_dwnsc\\lib\\site-packages (from click>=3.0->mercantile->contextily) (0.4.6)\n"
     ]
    }
   ],
   "source": [
    "# Install required libraries\n",
    "!pip install pysteps pyproj contextily matplotlib"
   ]
  },
  {
   "cell_type": "code",
   "execution_count": 5,
   "id": "31212730-45b4-4bc7-af6a-5292af00b664",
   "metadata": {},
   "outputs": [
    {
     "ename": "ImportError",
     "evalue": "cannot import name 'utility' from 'code' (C:\\Users\\Utente\\anaconda3\\envs\\avi_ppt_dwnsc\\Lib\\code.py)",
     "output_type": "error",
     "traceback": [
      "\u001b[1;31m---------------------------------------------------------------------------\u001b[0m",
      "\u001b[1;31mImportError\u001b[0m                               Traceback (most recent call last)",
      "Cell \u001b[1;32mIn[5], line 13\u001b[0m\n\u001b[0;32m     10\u001b[0m \u001b[38;5;28;01mfrom\u001b[39;00m \u001b[38;5;21;01mmatplotlib\u001b[39;00m\u001b[38;5;21;01m.\u001b[39;00m\u001b[38;5;21;01mticker\u001b[39;00m \u001b[38;5;28;01mimport\u001b[39;00m MaxNLocator, FuncFormatter\n\u001b[0;32m     12\u001b[0m \u001b[38;5;66;03m# Import utility functions from the repository\u001b[39;00m\n\u001b[1;32m---> 13\u001b[0m \u001b[38;5;28;01mfrom\u001b[39;00m \u001b[38;5;21;01mcode\u001b[39;00m \u001b[38;5;28;01mimport\u001b[39;00m utility\n",
      "\u001b[1;31mImportError\u001b[0m: cannot import name 'utility' from 'code' (C:\\Users\\Utente\\anaconda3\\envs\\avi_ppt_dwnsc\\Lib\\code.py)"
     ]
    }
   ],
   "source": [
    "# Import Necessary Libraries\n",
    "import os\n",
    "import numpy as np\n",
    "from datetime import datetime\n",
    "import matplotlib.pyplot as plt\n",
    "from pysteps.visualization import plot_precip_field, quiver\n",
    "from pprint import pprint\n",
    "from contextily import add_basemap\n",
    "import pyproj\n",
    "from matplotlib.ticker import MaxNLocator, FuncFormatter\n",
    "\n",
    "# Import utility functions from the repository\n",
    "import utility"
   ]
  },
  {
   "cell_type": "code",
   "execution_count": 6,
   "id": "49e65561-d58c-44fb-8590-2280e8f2f808",
   "metadata": {},
   "outputs": [
    {
     "ename": "NameError",
     "evalue": "name 'utility' is not defined",
     "output_type": "error",
     "traceback": [
      "\u001b[1;31m---------------------------------------------------------------------------\u001b[0m",
      "\u001b[1;31mNameError\u001b[0m                                 Traceback (most recent call last)",
      "Cell \u001b[1;32mIn[6], line 5\u001b[0m\n\u001b[0;32m      2\u001b[0m root_path \u001b[38;5;241m=\u001b[39m os\u001b[38;5;241m.\u001b[39mpath\u001b[38;5;241m.\u001b[39mjoin(os\u001b[38;5;241m.\u001b[39mgetcwd(), \u001b[38;5;124m\"\u001b[39m\u001b[38;5;124mData\u001b[39m\u001b[38;5;124m\"\u001b[39m)\n\u001b[0;32m      4\u001b[0m \u001b[38;5;66;03m# Define metadata files\u001b[39;00m\n\u001b[1;32m----> 5\u001b[0m metadata_X \u001b[38;5;241m=\u001b[39m \u001b[43mutility\u001b[49m\u001b[38;5;241m.\u001b[39mget_matadata(os\u001b[38;5;241m.\u001b[39mpath\u001b[38;5;241m.\u001b[39mjoin(root_path, \u001b[38;5;124m\"\u001b[39m\u001b[38;5;124mradarmappatipo.tif\u001b[39m\u001b[38;5;124m\"\u001b[39m), \u001b[38;5;28mtype\u001b[39m\u001b[38;5;241m=\u001b[39m\u001b[38;5;124m\"\u001b[39m\u001b[38;5;124mX\u001b[39m\u001b[38;5;124m\"\u001b[39m)\n\u001b[0;32m      6\u001b[0m metadata_C \u001b[38;5;241m=\u001b[39m utility\u001b[38;5;241m.\u001b[39mget_matadata(os\u001b[38;5;241m.\u001b[39mpath\u001b[38;5;241m.\u001b[39mjoin(root_path, \u001b[38;5;124m\"\u001b[39m\u001b[38;5;124mcivilpromap.tiff\u001b[39m\u001b[38;5;124m\"\u001b[39m), \u001b[38;5;28mtype\u001b[39m\u001b[38;5;241m=\u001b[39m\u001b[38;5;124m\"\u001b[39m\u001b[38;5;124mC\u001b[39m\u001b[38;5;124m\"\u001b[39m)\n",
      "\u001b[1;31mNameError\u001b[0m: name 'utility' is not defined"
     ]
    }
   ],
   "source": [
    "# Define the root directory for the repository data\n",
    "root_path = os.path.join(os.getcwd(), \"Data\")\n",
    "\n",
    "# Define metadata files\n",
    "metadata_X = utility.get_matadata(os.path.join(root_path, \"radarmappatipo.tif\"), type=\"X\")\n",
    "metadata_C = utility.get_matadata(os.path.join(root_path, \"civilpromap.tiff\"), type=\"C\")\n"
   ]
  },
  {
   "cell_type": "raw",
   "id": "1cabcfe3-35f5-463b-bbe4-e04db3f04754",
   "metadata": {},
   "source": [
    "Load and process X-Band radar data"
   ]
  },
  {
   "cell_type": "code",
   "execution_count": null,
   "id": "1e6ab5cd-b401-438d-a69f-9324b5bf889d",
   "metadata": {},
   "outputs": [],
   "source": [
    "# Choose the event date\n",
    "date = datetime.strptime(\"20191024_0415\", \"%Y%m%d_%H%M\")\n",
    "\n",
    "# Define parameters for X-band radar data\n",
    "data_source_X = \"UNICA_SG\"\n",
    "fn_pattern_X = \"%Y%m%d_%H%M\"\n",
    "f_ext_X = \".png\"\n",
    "\n",
    "# Load X-band radar data\n",
    "R_X, metadata_X = utility.import_files_by_date(date, root_path, data_source_X, fn_pattern_X, f_ext_X, metadata_X, timestep=5, num_prev_files=9)\n",
    "\n",
    "# Noise removal using Watershed technique\n",
    "R_X_clean = np.empty_like(R_X)\n",
    "for t in range(R_X.shape[0]):\n",
    "    R_X_clean[t, :, :] = utility.noise_remove(R_X[t, :, :], type=\"Watershed\")\n",
    "\n",
    "# Convert Digital Number to Reflectivity (dBZ)\n",
    "R_X_dbz = utility.dn_to_dbz(R_X_clean)\n",
    "\n",
    "# Convert to rain rate\n",
    "R_X_R, metadata_X = pysteps.utils.conversion.to_rainrate(R_X_dbz, metadata_X)\n",
    "\n",
    "# Log-transform the data\n",
    "image_R, metadata_X = pysteps.utils.transformation.dB_transform(R_X_R, metadata_X, threshold=0.01, zerovalue=-15.0)\n",
    "\n",
    "# Print metadata\n",
    "pprint(metadata_X)\n"
   ]
  },
  {
   "cell_type": "raw",
   "id": "532c5ae3-4101-4671-9acd-881690637ac7",
   "metadata": {},
   "source": [
    "Visualization and motion field estimation"
   ]
  },
  {
   "cell_type": "code",
   "execution_count": null,
   "id": "27a0c862-8008-403c-a6b0-7b499aa3ac0e",
   "metadata": {},
   "outputs": [],
   "source": [
    "# Estimate motion field using Lucas-Kanade optical flow\n",
    "oflow_method = pysteps.motion.get_method(\"LK\")\n",
    "V1 = oflow_method(image_R[-3:, :, :])\n",
    "\n",
    "# Plot precipitation field and motion field\n",
    "fig, ax = plt.subplots(figsize=(10, 8))\n",
    "\n",
    "# Precipitation field\n",
    "plot_precip_field(\n",
    "    R_X_dbz[-1, :, :], \n",
    "    ptype=\"intensity\", \n",
    "    geodata=metadata_X, \n",
    "    units=\"dBZ\", \n",
    "    title=\"Lucas Kanade Optical Flow Method\", \n",
    "    ax=ax, \n",
    "    colorscale=\"pysteps\"\n",
    ")\n",
    "\n",
    "# Motion field (quiver plot)\n",
    "quiver(V1, geodata=metadata_X, step=45, ax=ax)\n",
    "\n",
    "# Convert meter-based ticks to degrees\n",
    "def convert_meters_to_degrees(x, y, crs_proj, crs_geo=\"EPSG:4326\"):\n",
    "    transformer = pyproj.Transformer.from_crs(crs_proj, crs_geo, always_xy=True)\n",
    "    return transformer.transform(x, y)\n",
    "\n",
    "def format_ticks(value, tick_number, axis):\n",
    "    lon, lat = convert_meters_to_degrees(value, 0, metadata_X[\"projection\"]) if axis == \"x\" else convert_meters_to_degrees(0, value, metadata_X[\"projection\"])\n",
    "    return f\"{lon:.2f}\" if axis == \"x\" else f\"{lat:.2f}\"\n",
    "\n",
    "# Customize ticks\n",
    "ax.xaxis.set_major_formatter(FuncFormatter(lambda x, _: format_ticks(x, 0, \"x\")))\n",
    "ax.yaxis.set_major_formatter(FuncFormatter(lambda y, _: format_ticks(y, 0, \"y\")))\n",
    "ax.xaxis.set_major_locator(MaxNLocator(nbins=5))\n",
    "ax.yaxis.set_major_locator(MaxNLocator(nbins=5))\n",
    "\n",
    "# Add basemap\n",
    "add_basemap(ax, crs=metadata_X[\"projection\"], source=add_basemap.providers.OpenStreetMap.Mapnik)\n",
    "\n",
    "# Show plot\n",
    "plt.show()"
   ]
  }
 ],
 "metadata": {
  "kernelspec": {
   "display_name": "Python 3 (ipykernel)",
   "language": "python",
   "name": "python3"
  },
  "language_info": {
   "codemirror_mode": {
    "name": "ipython",
    "version": 3
   },
   "file_extension": ".py",
   "mimetype": "text/x-python",
   "name": "python",
   "nbconvert_exporter": "python",
   "pygments_lexer": "ipython3",
   "version": "3.12.2"
  }
 },
 "nbformat": 4,
 "nbformat_minor": 5
}
